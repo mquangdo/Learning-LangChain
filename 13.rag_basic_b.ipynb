{
 "cells": [
  {
   "cell_type": "code",
   "execution_count": 5,
   "id": "a29c4996-4f1b-42a8-9342-6c7a7dd32828",
   "metadata": {},
   "outputs": [
    {
     "name": "stdout",
     "output_type": "stream",
     "text": [
      "\n",
      "--- Relevant Documents ---\n",
      "Document 1:\n",
      "[96] [ I have already said in a note on bk. xi. 186 that at this point\n",
      "of Ulysses’ voyage Telemachus could only be between eleven and twelve\n",
      "years old.]\n",
      "\n",
      "[97] [ Is the writer a man or a woman?]\n",
      "\n",
      "[98] [ Cf. “Il.” iv. 521, {Greek}. The Odyssean line reads, {Greek}.\n",
      "The famous dactylism, therefore, of the Odyssean line was probably\n",
      "suggested by that of the Ileadic rather than by a desire to accommodate\n",
      "sound to sense. At any rate the double coincidence of a dactylic line,\n",
      "and an ending {Greek}, seems conclusive as to the familiarity of the\n",
      "writer of the “Odyssey” with the Iliadic line.]\n",
      "\n",
      "Source: C:\\Users\\ASUS\\Learning-LangChain\\books\\odyssey.txt\n",
      "\n"
     ]
    }
   ],
   "source": [
    "import os\n",
    "from langchain_community.vectorstores import Chroma\n",
    "from langchain_community.embeddings import HuggingFaceEmbeddings\n",
    "\n",
    "# Define the persistent directory\n",
    "current_dir = os.path.dirname(os.path.abspath('Learning-LangChain'))\n",
    "persistent_directory = os.path.join(current_dir, \"db\", \"chroma_db\")\n",
    "\n",
    "# Define the embedding model\n",
    "embeddings = HuggingFaceEmbeddings(model_name=\"sentence-transformers/all-MiniLM-L6-v2\")\n",
    "\n",
    "# Load the existing vector store with the embedding function\n",
    "db = Chroma(persist_directory=persistent_directory,\n",
    "            embedding_function=embeddings)\n",
    "\n",
    "# Define the user's question\n",
    "query = \"Who is Odysseus' wife?\"\n",
    "\n",
    "# Retrieve relevant documents based on the query\n",
    "retriever = db.as_retriever(\n",
    "    search_type=\"similarity_score_threshold\",\n",
    "    search_kwargs={\"k\": 3, \"score_threshold\": 0.4},\n",
    ")\n",
    "relevant_docs = retriever.invoke(query)\n",
    "\n",
    "# Display the relevant results with metadata\n",
    "print(\"\\n--- Relevant Documents ---\")\n",
    "for i, doc in enumerate(relevant_docs, 1):\n",
    "    print(f\"Document {i}:\\n{doc.page_content}\\n\")\n",
    "    if doc.metadata:\n",
    "        print(f\"Source: {doc.metadata.get('source', 'Unknown')}\\n\")"
   ]
  }
 ],
 "metadata": {
  "kernelspec": {
   "display_name": "learn_langchain",
   "language": "python",
   "name": "learn_langchain"
  },
  "language_info": {
   "codemirror_mode": {
    "name": "ipython",
    "version": 3
   },
   "file_extension": ".py",
   "mimetype": "text/x-python",
   "name": "python",
   "nbconvert_exporter": "python",
   "pygments_lexer": "ipython3",
   "version": "3.11.11"
  }
 },
 "nbformat": 4,
 "nbformat_minor": 5
}
